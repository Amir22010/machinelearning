{
 "cells": [
  {
   "cell_type": "code",
   "execution_count": 1,
   "metadata": {},
   "outputs": [
    {
     "ename": "ModuleNotFoundError",
     "evalue": "No module named 'xgboost'",
     "output_type": "error",
     "traceback": [
      "\u001b[0;31m---------------------------------------------------------------------------\u001b[0m",
      "\u001b[0;31mModuleNotFoundError\u001b[0m                       Traceback (most recent call last)",
      "\u001b[0;32m<ipython-input-1-cc1255c58bab>\u001b[0m in \u001b[0;36m<module>\u001b[0;34m()\u001b[0m\n\u001b[1;32m      2\u001b[0m \u001b[0;32mimport\u001b[0m \u001b[0mnumpy\u001b[0m \u001b[0;32mas\u001b[0m \u001b[0mnp\u001b[0m\u001b[0;34m\u001b[0m\u001b[0m\n\u001b[1;32m      3\u001b[0m \u001b[0;32mfrom\u001b[0m \u001b[0msklearn\u001b[0m\u001b[0;34m.\u001b[0m\u001b[0mpreprocessing\u001b[0m \u001b[0;32mimport\u001b[0m \u001b[0mLabelEncoder\u001b[0m\u001b[0;34m,\u001b[0m \u001b[0mStandardScaler\u001b[0m\u001b[0;34m\u001b[0m\u001b[0m\n\u001b[0;32m----> 4\u001b[0;31m \u001b[0;32mfrom\u001b[0m \u001b[0mxgboost\u001b[0m \u001b[0;32mimport\u001b[0m \u001b[0mXGBRegressor\u001b[0m\u001b[0;34m\u001b[0m\u001b[0m\n\u001b[0m\u001b[1;32m      5\u001b[0m \u001b[0;32mfrom\u001b[0m \u001b[0msklearn\u001b[0m\u001b[0;34m.\u001b[0m\u001b[0mmetrics\u001b[0m \u001b[0;32mimport\u001b[0m \u001b[0mr2_score\u001b[0m\u001b[0;34m\u001b[0m\u001b[0m\n\u001b[1;32m      6\u001b[0m \u001b[0;32mfrom\u001b[0m \u001b[0msklearn\u001b[0m\u001b[0;34m.\u001b[0m\u001b[0mmodel_selection\u001b[0m \u001b[0;32mimport\u001b[0m \u001b[0mtrain_test_split\u001b[0m\u001b[0;34m\u001b[0m\u001b[0m\n",
      "\u001b[0;31mModuleNotFoundError\u001b[0m: No module named 'xgboost'"
     ]
    }
   ],
   "source": [
    "import pandas as pd\n",
    "import numpy as np\n",
    "from sklearn.preprocessing import LabelEncoder, StandardScaler\n",
    "from xgboost import XGBRegressor\n",
    "from sklearn.metrics import r2_score\n",
    "from sklearn.model_selection import train_test_split\n",
    "from scipy import stats\n",
    "import matplotlib.pyplot as plt\n",
    "import seaborn as sns\n",
    "import warnings\n",
    "warnings.filterwarnings('ignore')"
   ]
  },
  {
   "cell_type": "code",
   "execution_count": 2,
   "metadata": {},
   "outputs": [
    {
     "name": "stdout",
     "output_type": "stream",
     "text": [
      "Collecting xgboost\n",
      "  Downloading https://files.pythonhosted.org/packages/06/7a/442f7da21792566012e5c7e5a7dffa44c1b6cc05c0c27856bbc8a7718b28/xgboost-0.72.1-py2.py3-none-manylinux1_x86_64.whl (18.4MB)\n",
      "\u001b[K    100% |████████████████████████████████| 18.4MB 51kB/s \n",
      "\u001b[?25hRequirement already satisfied: scipy in /home/jupyterlab/conda/lib/python3.6/site-packages (from xgboost)\n",
      "Requirement already satisfied: numpy in /home/jupyterlab/conda/lib/python3.6/site-packages (from xgboost)\n",
      "Installing collected packages: xgboost\n",
      "Successfully installed xgboost-0.72.1\n"
     ]
    }
   ],
   "source": [
    "!pip install xgboost"
   ]
  },
  {
   "cell_type": "code",
   "execution_count": 19,
   "metadata": {},
   "outputs": [],
   "source": [
    "import pandas as pd\n",
    "import numpy as np\n",
    "from sklearn.preprocessing import LabelEncoder, StandardScaler\n",
    "from xgboost import XGBRegressor\n",
    "from sklearn.metrics import r2_score\n",
    "from sklearn.model_selection import train_test_split\n",
    "from scipy import stats\n",
    "import matplotlib.pyplot as plt\n",
    "import seaborn as sns\n",
    "import warnings\n",
    "warnings.filterwarnings('ignore')"
   ]
  },
  {
   "cell_type": "code",
   "execution_count": 20,
   "metadata": {},
   "outputs": [],
   "source": [
    "#1.Load DataSet with Pandas\n",
    "df_train = pd.read_csv('/resources/data/forecast/yds_train2018.csv');\n",
    "df_test = pd.read_csv('/resources/data/forecast/yds_test2018.csv');\n",
    "df_test = df_test.drop(['Sales'], axis=1)\n",
    "df_promotional = pd.read_csv('/resources/data/forecast/promotional_expense.csv');\n",
    "df_holiday = pd.read_csv('/resources/data/forecast/holidays.csv')"
   ]
  },
  {
   "cell_type": "code",
   "execution_count": 21,
   "metadata": {},
   "outputs": [],
   "source": [
    "#2.Insert Valuable Data to Training Set\n",
    "X = df_train[['Year','Month','Product_ID','Country','Sales']]\n",
    "\n",
    "#3.Summation of Sales Column\n",
    "X = X.groupby(['Year','Month','Product_ID','Country'], as_index=False).sum()\n",
    "\n",
    "#4.Target Variable\n",
    "Y = X['Sales']"
   ]
  },
  {
   "cell_type": "code",
   "execution_count": 22,
   "metadata": {},
   "outputs": [],
   "source": [
    "#6.Insert Valuable Data to Test Set\n",
    "X_test = df_test[['Year','Month','Product_ID','Country']]"
   ]
  },
  {
   "cell_type": "code",
   "execution_count": 23,
   "metadata": {},
   "outputs": [],
   "source": [
    "#7.Merge the Expense Column to Train and Test Data\n",
    "X = X.merge(df_promotional, left_on=['Year','Month','Product_ID','Country'], right_on=['Year','Month','Product_ID','Country'], how='left')\n",
    "X_test = X_test.merge(df_promotional, left_on=['Year','Month','Product_ID','Country'], right_on=['Year','Month','Product_ID','Country'], how='left')"
   ]
  },
  {
   "cell_type": "code",
   "execution_count": 24,
   "metadata": {},
   "outputs": [
    {
     "name": "stdout",
     "output_type": "stream",
     "text": [
      "Year\n",
      "False    388\n",
      "Name: Year, dtype: int64\n",
      "\n",
      "Month\n",
      "False    388\n",
      "Name: Month, dtype: int64\n",
      "\n",
      "Product_ID\n",
      "False    388\n",
      "Name: Product_ID, dtype: int64\n",
      "\n",
      "Country\n",
      "False    388\n",
      "Name: Country, dtype: int64\n",
      "\n",
      "Sales\n",
      "False    388\n",
      "Name: Sales, dtype: int64\n",
      "\n",
      "Expense_Price\n",
      "False    336\n",
      "True      52\n",
      "Name: Expense_Price, dtype: int64\n",
      "\n",
      "Year\n",
      "False    105\n",
      "Name: Year, dtype: int64\n",
      "\n",
      "Month\n",
      "False    105\n",
      "Name: Month, dtype: int64\n",
      "\n",
      "Product_ID\n",
      "False    105\n",
      "Name: Product_ID, dtype: int64\n",
      "\n",
      "Country\n",
      "False    105\n",
      "Name: Country, dtype: int64\n",
      "\n",
      "Expense_Price\n",
      "False    99\n",
      "True      6\n",
      "Name: Expense_Price, dtype: int64\n",
      "\n"
     ]
    }
   ],
   "source": [
    "#7.Find Missing Values\n",
    "missing_data = X.isnull()\n",
    "for column in missing_data.columns.values.tolist():\n",
    "    print(column)\n",
    "    print (missing_data[column].value_counts())\n",
    "    print(\"\") \n",
    "\n",
    "missing_data = X_test.isnull()\n",
    "for column in missing_data.columns.values.tolist():\n",
    "    print(column)\n",
    "    print (missing_data[column].value_counts())\n",
    "    print(\"\") \n"
   ]
  },
  {
   "cell_type": "code",
   "execution_count": 25,
   "metadata": {},
   "outputs": [],
   "source": [
    "#8.Find the Average value of Expense\n",
    "avg = X.groupby(['Country'], as_index=False).mean()\n",
    "avg_1 = X_test.groupby(['Country'], as_index=False).mean()"
   ]
  },
  {
   "cell_type": "code",
   "execution_count": 26,
   "metadata": {},
   "outputs": [],
   "source": [
    "#9.Add the mean value of Expense to Expense Null Values    \n",
    "array_columbia = np.array([186,196,206,216,227,238,249,260,271,282,293,304,315,326,337,345,353,361,369,\n",
    "                  371,373,375,377,379,381,383,385,387])\n",
    "\n",
    "array_argentina = np.array([386,384,382,380,378,376,374,372,370,368,360,352,344,336,325,\n",
    "                            314,303,292,281,270,259,248,237,226])    \n",
    "\n",
    "X.iloc[array_argentina, X.columns.get_loc('Expense_Price')] = 8222.515128205128\n",
    "X.iloc[array_columbia, X.columns.get_loc('Expense_Price')] = 2210.50158974359\n",
    "\n",
    "test_columbia = [63,64,65]\n",
    "test_argentina = [24,25,26]\n",
    "\n",
    "X_test.iloc[test_argentina, X_test.columns.get_loc('Expense_Price')] = 8222.515128205128\n",
    "X_test.iloc[test_columbia, X_test.columns.get_loc('Expense_Price')] = 2210.50158974359"
   ]
  },
  {
   "cell_type": "code",
   "execution_count": 27,
   "metadata": {},
   "outputs": [],
   "source": [
    "#10.Add Holidays Column to Train and Test Column\n",
    "sLength = len(X['Month'])\n",
    "X['Holiday'] = pd.Series(np.random.randn(sLength), index=X.index)\n",
    "\n",
    "sLength_test = len(X_test['Month'])\n",
    "X_test['Holiday'] = pd.Series(np.random.randn(sLength_test), index=X_test.index)"
   ]
  },
  {
   "cell_type": "code",
   "execution_count": 28,
   "metadata": {},
   "outputs": [],
   "source": [
    "def fetch_holidays(dataframe):   \n",
    "    count_of_holidays = []\n",
    "    for index, row  in dataframe.iterrows():\n",
    "        holidays_entry = []\n",
    "        try:\n",
    "            holidays_entry.append(df_holiday.loc[(df_holiday.Country == row['Country']) & (df_holiday.Year == row['Year']) & (df_holiday.Month == row['Month']),'Holiday'])\n",
    "            count_of_holidays.append(len(holidays_entry[0]))\n",
    "        except IndexError:\n",
    "            count_of_holidays.append(len(holidays_entry[0]))\n",
    "       \n",
    "    dataframe['Holiday']=count_of_holidays\n",
    "\n",
    "\n",
    "df_holiday['Date']  = pd.to_datetime(df_holiday['Date'])\n",
    "df_holiday['Year'] = pd.DatetimeIndex(df_holiday['Date']).year\n",
    "df_holiday['Month'] = pd.DatetimeIndex(df_holiday['Date']).month\n",
    "df_holiday = df_holiday.drop(df_holiday.columns[0], axis=1)\n",
    "\n",
    "\n",
    "fetch_holidays(X)\n",
    "fetch_holidays(X_test)"
   ]
  },
  {
   "cell_type": "code",
   "execution_count": 29,
   "metadata": {},
   "outputs": [
    {
     "name": "stdout",
     "output_type": "stream",
     "text": [
      "There are 1 categorical variables\n",
      "There are 6 numerical variables\n"
     ]
    }
   ],
   "source": [
    "#Explanatory Data Analysis\n",
    "\n",
    "#11. find categorical variables\n",
    "categorical = [var for var in X.columns if X[var].dtype=='O']\n",
    "print('There are {} categorical variables'.format(len(categorical)))\n",
    "\n",
    "#12.find numerical variables\n",
    "numerical = [var for var in X.columns if X[var].dtype!='O']\n",
    "print('There are {} numerical variables'.format(len(numerical)))"
   ]
  },
  {
   "cell_type": "code",
   "execution_count": 30,
   "metadata": {},
   "outputs": [
    {
     "name": "stdout",
     "output_type": "stream",
     "text": [
      "Year  values:  [2013 2014 2015 2016]\n",
      "Month  values:  [ 1  2  3  4  5  6  7  8  9 10 11 12]\n",
      "Product_ID  values:  [1 2 4 5 3]\n",
      "Holiday  values:  [1 2 0 4 3]\n",
      "There are 4 discrete variables\n"
     ]
    }
   ],
   "source": [
    "#13.let's visualise the values of the discrete variables\n",
    "discrete = []\n",
    "for var in numerical:\n",
    "    if len(X[var].unique())<20:\n",
    "        print(var, ' values: ', X[var].unique())\n",
    "        discrete.append(var)\n",
    "        \n",
    "print('There are {} discrete variables'.format(len(discrete)))"
   ]
  },
  {
   "cell_type": "code",
   "execution_count": 31,
   "metadata": {},
   "outputs": [
    {
     "data": {
      "text/plain": [
       "['Expense_Price']"
      ]
     },
     "execution_count": 31,
     "metadata": {},
     "output_type": "execute_result"
    }
   ],
   "source": [
    "#14.first we make a list of continuous variables (from the numerical ones)\n",
    "continuous = [var for var in numerical if var not in discrete and var not in ['Sales']]\n",
    "continuous"
   ]
  },
  {
   "cell_type": "code",
   "execution_count": 32,
   "metadata": {},
   "outputs": [
    {
     "data": {
      "image/png": "[encoded data removed]",
      "text/plain": [
       "<Figure size 1080x432 with 2 Axes>"
      ]
     },
     "metadata": {},
     "output_type": "display_data"
    },
    {
     "data": {
      "image/png": "[encoded data removed]",
      "text/plain": [
       "<Figure size 1080x432 with 2 Axes>"
      ]
     },
     "metadata": {},
     "output_type": "display_data"
    }
   ],
   "source": [
    "for var in continuous:\n",
    "    plt.figure(figsize=(15,6))\n",
    "    plt.subplot(1, 2, 1)\n",
    "    fig = sns.boxplot(y=X[var])\n",
    "    fig.set_title('')\n",
    "    fig.set_ylabel(var)\n",
    "    \n",
    "    plt.subplot(1, 2, 2)\n",
    "    fig = sns.distplot(X[var].dropna())\n",
    "    fig.set_xlabel(var)\n",
    "\n",
    "    plt.show()\n",
    "\n",
    "\n",
    "#16.let's look at the distribution of the target variable\n",
    "plt.figure(figsize=(15,6))\n",
    "plt.subplot(1, 2, 1)\n",
    "fig = sns.boxplot(y=X['Sales'])\n",
    "fig.set_title('')\n",
    "fig.set_ylabel(var)\n",
    "\n",
    "plt.subplot(1, 2, 2)\n",
    "fig = sns.distplot(X['Sales'].dropna())\n",
    "fig.set_xlabel(var)\n",
    "plt.show()"
   ]
  },
  {
   "cell_type": "code",
   "execution_count": 33,
   "metadata": {},
   "outputs": [
    {
     "name": "stdout",
     "output_type": "stream",
     "text": [
      "2015    0.324742\n",
      "2014    0.288660\n",
      "2013    0.278351\n",
      "2016    0.108247\n",
      "Name: Year, dtype: float64\n",
      "3     0.095361\n",
      "2     0.095361\n",
      "1     0.095361\n",
      "10    0.082474\n",
      "9     0.082474\n",
      "8     0.079897\n",
      "7     0.079897\n",
      "6     0.079897\n",
      "5     0.079897\n",
      "4     0.079897\n",
      "12    0.074742\n",
      "11    0.074742\n",
      "Name: Month, dtype: float64\n",
      "2    0.402062\n",
      "1    0.201031\n",
      "4    0.175258\n",
      "3    0.134021\n",
      "5    0.087629\n",
      "Name: Product_ID, dtype: float64\n",
      "0    0.322165\n",
      "2    0.293814\n",
      "1    0.286082\n",
      "3    0.067010\n",
      "4    0.030928\n",
      "Name: Holiday, dtype: float64\n",
      "Country  contains  6  labels\n"
     ]
    },
    {
     "data": {
      "text/plain": [
       "((310, 7), (78, 7))"
      ]
     },
     "execution_count": 33,
     "metadata": {},
     "output_type": "execute_result"
    }
   ],
   "source": [
    "\n",
    "#17.check outlies in discrete variables\n",
    "for var in discrete:\n",
    "    print(X[var].value_counts() / np.float(len(X)))\n",
    "\n",
    "\n",
    "\n",
    "#18.check if our categorical variables have a huge number of categories\n",
    "for var in categorical:\n",
    "    print(var, ' contains ', len(X[var].unique()), ' labels')\n",
    "\n",
    "\n",
    "\n",
    "#19.Let's separate into train and test set\n",
    "train, test, y_train, y_test = train_test_split(X, Y, test_size=0.2,\n",
    "                                                    random_state=0)\n",
    "train.shape, test.shape\n"
   ]
  },
  {
   "cell_type": "code",
   "execution_count": 34,
   "metadata": {},
   "outputs": [
    {
     "data": {
      "image/png": "[encoded data removed]",
      "text/plain": [
       "<Figure size 1080x432 with 2 Axes>"
      ]
     },
     "metadata": {},
     "output_type": "display_data"
    }
   ],
   "source": [
    "#20.Transformation of Numerical variables\n",
    "#As most variables were skewed, I will transform them with the box cox transformation\n",
    "def boxcox_transformation(var):\n",
    "    train[var], param = stats.boxcox(train[var]+1) \n",
    "    test[var], param = stats.boxcox(test[var]+1) \n",
    "    X_test[var], param = stats.boxcox(X_test[var]+1) \n",
    "\n",
    "\n",
    "\n",
    "#21. let's  check if the transformation created infinite values\n",
    "for var in continuous:\n",
    "    boxcox_transformation(var)\n",
    "    \n",
    "train[continuous].head()\n",
    "\n",
    "for var in continuous:\n",
    "    if np.isinf(train[var]).sum()>1:\n",
    "        print(var)\n",
    "\n",
    "for var in continuous:\n",
    "    if np.isinf(test[var]).sum()>1:\n",
    "        print(var)\n",
    "\n",
    "for var in continuous:\n",
    "    if np.isinf(X_test[var]).sum()>1:\n",
    "        print(var)\n",
    "\n",
    "\n",
    "for var in train.columns:\n",
    "    if test[var].isnull().sum()>0:\n",
    "        print(var, test[var].isnull().sum())\n",
    "\n",
    "\n",
    "\n",
    "\n",
    "#22. let's make boxplots to visualise outliers in the continuous variables\n",
    "# and histograms to get an idea of the distribution\n",
    "# hopefully the transformation yielded variables more \"Gaussian\"looking\n",
    "for var in continuous:\n",
    "    plt.figure(figsize=(15,6))\n",
    "    plt.subplot(1, 2, 1)\n",
    "    fig = sns.boxplot(y=train[var])\n",
    "    fig.set_title('')\n",
    "    fig.set_ylabel(var)\n",
    "    \n",
    "    plt.subplot(1, 2, 2)\n",
    "    fig = sns.distplot(train[var].dropna())\n",
    "    fig.set_xlabel(var)\n",
    "\n",
    "    plt.show()"
   ]
  },
  {
   "cell_type": "code",
   "execution_count": 35,
   "metadata": {},
   "outputs": [
    {
     "data": {
      "image/png": "[encoded data removed]",
      "text/plain": [
       "<Figure size 1080x432 with 2 Axes>"
      ]
     },
     "metadata": {},
     "output_type": "display_data"
    }
   ],
   "source": [
    "var = 'Sales'\n",
    "y_train = np.log(y_train) \n",
    "y_test = np.log(y_test) \n",
    "\n",
    "plt.figure(figsize=(15,6))\n",
    "plt.subplot(1, 2, 1)\n",
    "fig = sns.boxplot(y=y_train)\n",
    "fig.set_title('')\n",
    "fig.set_ylabel(var)\n",
    "\n",
    "plt.subplot(1, 2, 2)\n",
    "fig = sns.distplot(y_train)#.hist(bins=20)\n",
    "fig.set_xlabel(var)\n",
    "plt.show()"
   ]
  },
  {
   "cell_type": "code",
   "execution_count": 36,
   "metadata": {},
   "outputs": [],
   "source": [
    "#24.Encode categorical variables\n",
    "labelencoder_X = LabelEncoder()\n",
    "test['Country'] = labelencoder_X.fit_transform(test['Country'])\n",
    "train['Country'] = labelencoder_X.fit_transform(train['Country'])\n",
    "X_test['Country'] = labelencoder_X.fit_transform(X_test['Country'])"
   ]
  },
  {
   "cell_type": "code",
   "execution_count": 37,
   "metadata": {},
   "outputs": [],
   "source": [
    "#5.Drop Target Column from Train Data\n",
    "X = X.drop(['Sales'], axis=1)"
   ]
  },
  {
   "cell_type": "code",
   "execution_count": 38,
   "metadata": {},
   "outputs": [
    {
     "data": {
      "text/plain": [
       "Year               int64\n",
       "Month              int64\n",
       "Product_ID         int64\n",
       "Country            int64\n",
       "Sales            float64\n",
       "Expense_Price    float64\n",
       "Holiday            int64\n",
       "dtype: object"
      ]
     },
     "execution_count": 38,
     "metadata": {},
     "output_type": "execute_result"
    }
   ],
   "source": [
    "train.dtypes"
   ]
  },
  {
   "cell_type": "code",
   "execution_count": 39,
   "metadata": {},
   "outputs": [],
   "source": [
    "#5.Drop Target Column from Train Data\n",
    "train = train.drop(['Sales'], axis=1)"
   ]
  },
  {
   "cell_type": "code",
   "execution_count": 40,
   "metadata": {},
   "outputs": [],
   "source": [
    "#5.Drop Target Column from Train Data\n",
    "test = test.drop(['Sales'], axis=1)"
   ]
  },
  {
   "cell_type": "code",
   "execution_count": 41,
   "metadata": {},
   "outputs": [],
   "source": [
    "#25.lets explore train dataset        \n",
    "train.head()\n",
    "\n",
    "training_vars = [var for var in train.columns if var not in ['Sales']]"
   ]
  },
  {
   "cell_type": "code",
   "execution_count": 42,
   "metadata": {},
   "outputs": [
    {
     "data": {
      "text/plain": [
       "StandardScaler(copy=True, with_mean=True, with_std=True)"
      ]
     },
     "execution_count": 42,
     "metadata": {},
     "output_type": "execute_result"
    }
   ],
   "source": [
    "#26 fit scaler\n",
    "scaler = StandardScaler() # create an instance\n",
    "scaler.fit(test[training_vars])\n",
    "scaler.fit(train[training_vars])"
   ]
  },
  {
   "cell_type": "code",
   "execution_count": 43,
   "metadata": {},
   "outputs": [],
   "source": [
    "#.Machine Learning Modeling Part\n",
    "\n",
    "#27.XGB Regressor Modeling \n",
    "xgb_model = XGBRegressor()\n",
    "from sklearn.metrics import mean_squared_error\n",
    "eval_set = [(test[training_vars], y_test)]\n",
    "xgb_model.fit(train[training_vars], y_train, eval_set=eval_set, verbose=False)\n",
    "\n",
    "pred = xgb_model.predict(train[training_vars])"
   ]
  },
  {
   "cell_type": "code",
   "execution_count": 44,
   "metadata": {},
   "outputs": [
    {
     "name": "stdout",
     "output_type": "stream",
     "text": [
      "xgb train mse: 0.10662117013156995\n",
      "xgb test mse: 0.24781372989026237\n"
     ]
    }
   ],
   "source": [
    "#28.Calculating Root Mean Square error\n",
    "print('xgb train mse: {}'.format(mean_squared_error(y_train, pred)))\n",
    "pred = xgb_model.predict(test[training_vars])\n",
    "print('xgb test mse: {}'.format(mean_squared_error(y_test, pred)))"
   ]
  },
  {
   "cell_type": "code",
   "execution_count": 45,
   "metadata": {},
   "outputs": [
    {
     "name": "stdout",
     "output_type": "stream",
     "text": [
      "1.7381287532309129\n"
     ]
    }
   ],
   "source": [
    "#29.check SMAPE\n",
    "def smape(A, F):\n",
    "    return (100/len(A)) * np.sum(2 * (np.abs(F - A) / (np.abs(A) + np.abs(F))))\n",
    "LB = smape(np.exp(y_test.values),np.exp(pred))\n",
    "print(2-(LB/100))"
   ]
  },
  {
   "cell_type": "code",
   "execution_count": 46,
   "metadata": {},
   "outputs": [
    {
     "name": "stdout",
     "output_type": "stream",
     "text": [
      "0.9310057234727329\n"
     ]
    }
   ],
   "source": [
    "#30.Calculate r2 score\n",
    "print(r2_score(np.exp(y_test.values),np.exp(pred))) \n",
    "\n",
    "\n",
    "#31.Prediction\n",
    "pred_ls = []\n",
    "pred_ls.append(pd.Series(xgb_model.predict(X_test[training_vars])))\n",
    "\n",
    "\n",
    "#32.inverse log transform\n",
    "final_pred = np.exp(pd.concat(pred_ls, axis=1).mean(axis=1))"
   ]
  },
  {
   "cell_type": "code",
   "execution_count": 47,
   "metadata": {},
   "outputs": [],
   "source": [
    "#33.Output File\n",
    "output = pd.DataFrame({'S_No': df_test['S_No'],'Year':df_test['Year'], 'Month':df_test['Month'], 'Product_ID':df_test['Product_ID'],\n",
    "                       'Country':df_test['Country'], 'Sales':final_pred})\n",
    "\n",
    "#34. write Model File to csv    \n",
    "output.to_csv('yds_submission2018.csv',index=False) "
   ]
  },
  {
   "cell_type": "code",
   "execution_count": null,
   "metadata": {},
   "outputs": [],
   "source": []
  }
 ],
 "metadata": {
  "kernelspec": {
   "display_name": "Python 3",
   "language": "python",
   "name": "python3"
  },
  "language_info": {
   "codemirror_mode": {
    "name": "ipython",
    "version": 3
   },
   "file_extension": ".py",
   "mimetype": "text/x-python",
   "name": "python",
   "nbconvert_exporter": "python",
   "pygments_lexer": "ipython3",
   "version": "3.6.4"
  }
 },
 "nbformat": 4,
 "nbformat_minor": 2
}
